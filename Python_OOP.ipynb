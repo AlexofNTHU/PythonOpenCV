{
  "nbformat": 4,
  "nbformat_minor": 0,
  "metadata": {
    "colab": {
      "name": "Python_OOP.ipynb",
      "version": "0.3.2",
      "provenance": [],
      "collapsed_sections": []
    },
    "kernelspec": {
      "name": "python3",
      "display_name": "Python 3"
    }
  },
  "cells": [
    {
      "metadata": {
        "id": "20JDUsR43qqF",
        "colab_type": "text"
      },
      "cell_type": "markdown",
      "source": [
        "**Object-Oriented Programming in Python**: <br>\n",
        "**Encapsulation (封裝)**:  In an object oriented python program, you can restrict access to methods and variables. This can prevent the data from being modified by accident and is known as encapsulation.   Let’s start with an example. <br>\n",
        "**Private methods:**\n"
      ]
    },
    {
      "metadata": {
        "id": "ksyA0YVxEnZ2",
        "colab_type": "code",
        "colab": {}
      },
      "cell_type": "code",
      "source": [
        "class Car:\n",
        " \n",
        "    def __init__(self):\n",
        "        self.__updateSoftware()\n",
        " \n",
        "    def drive(self):\n",
        "        print('driving')\n",
        " \n",
        "    def __updateSoftware(self):\n",
        "        print('updating software')\n",
        " \n",
        "redcar = Car()\n",
        "redcar.drive()\n",
        "#redcar.__updateSoftware() #  not accesible from object."
      ],
      "execution_count": 0,
      "outputs": []
    },
    {
      "metadata": {
        "id": "O5OviPyKE3Im",
        "colab_type": "text"
      },
      "cell_type": "markdown",
      "source": [
        "Encapsulation prevents from accessing accidentally, but not intentionally.\n",
        "\n",
        "The private attributes and methods are not really hidden, they’re renamed adding “_Car” in the beginning of their name.\n",
        "\n",
        "The method can actually be called using redcar._Car__updateSoftware()\n",
        "\n",
        "**Private variables**: Variables can be private which can be useful on many occasions. A private variable can only be changed within a class method and not outside of the class.\n",
        "\n",
        "Objects can hold crucial data for your application and you do not want that data to be changeable from anywhere in the code. An example:\n"
      ]
    },
    {
      "metadata": {
        "id": "ce0_PH0_FCi0",
        "colab_type": "code",
        "colab": {}
      },
      "cell_type": "code",
      "source": [
        "class Car:\n",
        "    \n",
        "    __maxspeed = 0\n",
        "    __name = \"\"\n",
        " \n",
        "    def __init__(self):\n",
        "        self.__maxspeed = 200\n",
        "        self.__name = \"Supercar\"\n",
        " \n",
        "    def drive(self):\n",
        "        print('driving. maxspeed ' + str(self.__maxspeed))\n",
        " \n",
        "redcar = Car()\n",
        "redcar.drive()\n",
        "redcar.__maxspeed = 10  # will not change variable because its private\n",
        "redcar.drive()\n"
      ],
      "execution_count": 0,
      "outputs": []
    },
    {
      "metadata": {
        "id": "ay5juluCFHsO",
        "colab_type": "text"
      },
      "cell_type": "markdown",
      "source": [
        "If you want to change the value of a private variable, a setter method is used.  This is simply a method that sets the value of a private variable.\n"
      ]
    },
    {
      "metadata": {
        "id": "z_Xpdt28FI2L",
        "colab_type": "code",
        "colab": {}
      },
      "cell_type": "code",
      "source": [
        "class Car:\n",
        " \n",
        "    __maxspeed = 0\n",
        "    __name = \"\"\n",
        " \n",
        "    def __init__(self):\n",
        "        self.__maxspeed = 200\n",
        "        self.__name = \"Supercar\"\n",
        " \n",
        "    def drive(self):\n",
        "        print('driving. maxspeed ' + str(self.__maxspeed))\n",
        " \n",
        "    def setMaxSpeed(self,speed):\n",
        "        self.__maxspeed = speed\n",
        " \n",
        "redcar = Car()\n",
        "redcar.drive()\n",
        "redcar.setMaxSpeed(320)\n",
        "redcar.drive()"
      ],
      "execution_count": 0,
      "outputs": []
    },
    {
      "metadata": {
        "id": "Ddg3LXf6FPvB",
        "colab_type": "text"
      },
      "cell_type": "markdown",
      "source": [
        "**Python encapsulation summarization**:\n",
        "\n",
        "Type:\tDescription <br>\n",
        "public methods:\tAccessible from anywhere <br>\n",
        "private methods:\tAccessible only in their own class. starts with two underscores <br>\n",
        "public variables:\tAccessible from anywhere <br>\n",
        "private variables:\tAccesible only in their own class or by a method if defined. starts with two underscores"
      ]
    },
    {
      "metadata": {
        "id": "dPa1MVDHFdHU",
        "colab_type": "text"
      },
      "cell_type": "markdown",
      "source": [
        "**Inheritance(繼承)**: Classes can inherit functionality of other classes. If an object is created using a class that inherits from a superclass, the object will contain the methods of both the class and the superclass. The same holds true for variables of both the superclass and the class that inherits from the super class."
      ]
    },
    {
      "metadata": {
        "id": "m_5mcUi5Fd36",
        "colab_type": "code",
        "colab": {}
      },
      "cell_type": "code",
      "source": [
        "class User:\n",
        "    name = \"\"\n",
        " \n",
        "    def __init__(self, name):\n",
        "        self.name = name\n",
        " \n",
        "    def printName(self):\n",
        "        print(\"Name  = \" + self.name)\n",
        " \n",
        "class Programmer(User):\n",
        "    def __init__(self, name):\n",
        "        self.name = name\n",
        " \n",
        "    def doPython(self):\n",
        "        print(\"Programming Python\")\n",
        " \n",
        "brian = User(\"brian\")\n",
        "brian.printName()\n",
        " \n",
        "diana = Programmer(\"Diana\")\n",
        "diana.printName()\n",
        "diana.doPython()"
      ],
      "execution_count": 0,
      "outputs": []
    },
    {
      "metadata": {
        "id": "TPgxNB9HFf7F",
        "colab_type": "text"
      },
      "cell_type": "markdown",
      "source": [
        "**Polymorphism(多型)**: <br> Sometimes an object comes in many types or forms. If we have a button, there are many different draw outputs (round button, check button, square button, button with image) but they do share the same logic: onClick().  We access them using the same method . This idea is called Polymorphism. <br>\n",
        "\n",
        "Polymorphism with a function:\n",
        "We create two classes:  Bear and Dog, both  can make a distinct sound.  We then make two instances and call their action using the same method."
      ]
    },
    {
      "metadata": {
        "id": "YoWB5sNeFgZS",
        "colab_type": "code",
        "colab": {}
      },
      "cell_type": "code",
      "source": [
        "class Bear(object):\n",
        "    def sound(self):\n",
        "        print(\"Groarrr\")\n",
        " \n",
        "class Dog(object):\n",
        "    def sound(self):\n",
        "        print(\"Woof woof!\")\n",
        " \n",
        "def makeSound(animalType):\n",
        "    animalType.sound()\n",
        " \n",
        "bearObj = Bear()\n",
        "dogObj = Dog()\n",
        " \n",
        "makeSound(bearObj)\n",
        "makeSound(dogObj)"
      ],
      "execution_count": 0,
      "outputs": []
    },
    {
      "metadata": {
        "id": "oQcE0mYcFr6E",
        "colab_type": "text"
      },
      "cell_type": "markdown",
      "source": [
        "**Polymorphism with abstract class (most commonly used)**:  <br> If you create an editor you may not know in advance what type of documents a user will open (pdf format or word format?).\n",
        "\n",
        "Wouldn’t it be great to acess them like this, instead of having 20 types for every document?"
      ]
    },
    {
      "metadata": {
        "id": "ke5SVy5PFusR",
        "colab_type": "code",
        "colab": {}
      },
      "cell_type": "code",
      "source": [
        "class Document:\n",
        "    def __init__(self, name):\n",
        "        self.name = name\n",
        " \n",
        "    def show(self):\n",
        "        raise NotImplementedError(\"Subclass must implement abstract method\")\n",
        " \n",
        "class Pdf(Document):\n",
        "    def show(self):\n",
        "        return 'Show pdf contents!'\n",
        " \n",
        "class Word(Document):\n",
        "    def show(self):\n",
        "        return 'Show word contents!'\n",
        " \n",
        "documents = [Pdf('Document1'),Pdf('Document2'),Word('Document3')]\n",
        " \n",
        "for document in documents:\n",
        "    print(document.name + ': ' + document.show())"
      ],
      "execution_count": 0,
      "outputs": []
    },
    {
      "metadata": {
        "id": "svmI8ljrkOQk",
        "colab_type": "code",
        "colab": {}
      },
      "cell_type": "code",
      "source": [
        ""
      ],
      "execution_count": 0,
      "outputs": []
    }
  ]
}