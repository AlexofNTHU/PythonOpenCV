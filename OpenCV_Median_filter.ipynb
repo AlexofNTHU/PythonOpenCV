{
  "nbformat": 4,
  "nbformat_minor": 0,
  "metadata": {
    "colab": {
      "name": "OpenCV_Median_filter.ipynb",
      "version": "0.3.2",
      "provenance": [],
      "collapsed_sections": []
    },
    "kernelspec": {
      "name": "python3",
      "display_name": "Python 3"
    }
  },
  "cells": [
    {
      "metadata": {
        "id": "oEOnth8hQcSf",
        "colab_type": "code",
        "colab": {}
      },
      "cell_type": "code",
      "source": [
        "#mport cv2\n",
        "#v2.version__\n",
        "\n",
        "import numpy as np\n",
        "import cv2 as cv\n",
        "from matplotlib import pyplot as plt\n",
        "from google.colab.patches import cv2_imshow\n",
        "from google.colab import files\n",
        "from IPython.display import Image\n",
        "\n",
        "uploaded = files.upload()\n",
        "img = cv.imread('salt_n_pepper1.png')\n",
        "img_rgb = cv.cvtColor(img, cv.COLOR_BGR2RGB)\n",
        "# the shape of this image\n",
        "print(img_rgb.shape)\n",
        "plt.imshow(img_rgb)\n",
        "plt.show()"
      ],
      "execution_count": 0,
      "outputs": []
    },
    {
      "metadata": {
        "id": "ivHAbaoNQ2ri",
        "colab_type": "code",
        "colab": {}
      },
      "cell_type": "code",
      "source": [
        "def bubble_sorting(alist):\n",
        "\n",
        "    for passnum in range(len(alist)-1,0,-1):\n",
        "        for i in range(passnum):\n",
        "            if alist[i]>alist[i+1]:\n",
        "                temp = alist[i]\n",
        "                alist[i] = alist[i+1]\n",
        "                alist[i+1] = temp\n",
        "  \n",
        "    return alist\n",
        "\n",
        "h, w, c = img_rgb.shape\n",
        "#new_img_rgb = np.zeros_like(img_rgb)\n",
        "new_img_rgb = np.copy(img_rgb)\n",
        "\n",
        "for k in range(c):  \n",
        "    for i in range(1,h-1):\n",
        "        for j in range(1,w-1):        \n",
        "            #print(k) \n",
        "            top_left = img_rgb.item(i-1,j-1,k)\n",
        "            top = img_rgb.item(i-1,j,k)\n",
        "            top_right = img_rgb.item(i-1,j+1,k)\n",
        "            \n",
        "            center_left = img_rgb.item(i,j-1,k)\n",
        "            center = img_rgb.item(i,j,k)\n",
        "            center_right = img_rgb.item(i,j+1,k)\n",
        "            \n",
        "            btm_left = img_rgb.item(i+1,j-1,k)\n",
        "            btm = img_rgb.item(i+1,j,k)\n",
        "            btm_right = img_rgb.item(i+1,j+1,k)\n",
        "            \n",
        "            list_to_be_sorted = [top_left, top, top_right, center_left, center, center_right, btm_left, btm, btm_right]\n",
        "            sorted_array = bubble_sorting(list_to_be_sorted)\n",
        "            median_value =  sorted_array[4]\n",
        "                        \n",
        "            new_img_rgb.itemset((i,j,k),median_value) \n",
        "\n",
        "new_img_bgr = cv.cvtColor(new_img_rgb, cv.COLOR_RGB2BGR)\n",
        "cv2_imshow(new_img_bgr)"
      ],
      "execution_count": 0,
      "outputs": []
    },
    {
      "metadata": {
        "id": "FkWHNQvCSUPk",
        "colab_type": "code",
        "colab": {}
      },
      "cell_type": "code",
      "source": [
        ""
      ],
      "execution_count": 0,
      "outputs": []
    }
  ]
}