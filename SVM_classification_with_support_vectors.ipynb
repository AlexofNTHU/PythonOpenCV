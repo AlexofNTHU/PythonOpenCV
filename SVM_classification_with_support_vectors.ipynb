{
  "nbformat": 4,
  "nbformat_minor": 0,
  "metadata": {
    "colab": {
      "name": "SVM_classification_with_support_vectors.ipynb",
      "provenance": [],
      "collapsed_sections": []
    },
    "kernelspec": {
      "name": "python3",
      "display_name": "Python 3"
    }
  },
  "cells": [
    {
      "cell_type": "code",
      "metadata": {
        "id": "R2Qx46DeFsAd",
        "colab_type": "code",
        "outputId": "ebc5b9f4-c844-40b5-e385-24ef9308cb1b",
        "colab": {
          "base_uri": "https://localhost:8080/",
          "height": 546
        }
      },
      "source": [
        "import cv2 as cv\n",
        "import numpy as np\n",
        "from google.colab.patches import cv2_imshow\n",
        "\n",
        "# Set up training data\n",
        "labels = np.array([1, -1, -1, -1])\n",
        "trainingData = np.matrix([[501, 10], [255, 10], [501, 255], [10, 501]], dtype=np.float32)\n",
        "# Train the SVM\n",
        "svm = cv.ml.SVM_create()\n",
        "svm.setType(cv.ml.SVM_C_SVC)\n",
        "svm.setKernel(cv.ml.SVM_LINEAR)\n",
        "svm.setTermCriteria((cv.TERM_CRITERIA_MAX_ITER, 100, 1e-6))\n",
        "svm.train(trainingData, cv.ml.ROW_SAMPLE, labels)\n",
        "# Data for visual representation\n",
        "width = 512\n",
        "height = 512\n",
        "image = np.zeros((height, width, 3), dtype=np.uint8)\n",
        "# Show the decision regions given by the SVM\n",
        "green = (0,255,0)\n",
        "blue = (255,0,0)\n",
        "for i in range(image.shape[0]):\n",
        "    for j in range(image.shape[1]):\n",
        "        sampleMat = np.matrix([[j,i]], dtype=np.float32)\n",
        "        response = svm.predict(sampleMat)[1]\n",
        "        if response == 1:\n",
        "            image[i,j] = green\n",
        "        elif response == -1:\n",
        "            image[i,j] = blue\n",
        "# Show the training data\n",
        "thickness = -1\n",
        "\n",
        "cv.circle(image, (trainingData[0,0],  trainingData[0,1]), 5, (  0,   0,   0), thickness)\n",
        "cv.circle(image, (trainingData[1,0],  trainingData[1,1]), 5, (255, 255, 255), thickness)\n",
        "cv.circle(image, (trainingData[2,0],  trainingData[2,1]), 5, (255, 255, 255), thickness)\n",
        "cv.circle(image, (trainingData[3,0],  trainingData[3,1]), 5, (255, 255, 255), thickness)\n",
        "# Show support vectors\n",
        "thickness = 2\n",
        "sv = svm.getUncompressedSupportVectors()\n",
        "for i in range(sv.shape[0]):\n",
        "    cv.circle(image, (sv[i,0], sv[i,1]), 6, (128, 128, 128), thickness)\n",
        "#cv.imwrite('result.png', image) # save the image\n",
        "cv2_imshow(image) # show it to the user\n",
        "\n",
        "print('the number of support vectors:{}'.format(sv.shape[0]))"
      ],
      "execution_count": 9,
      "outputs": [
        {
          "output_type": "display_data",
          "data": {
            "image/png": "[encoded data removed]",
            "text/plain": [
              "<PIL.Image.Image image mode=RGB size=512x512 at 0x7FCFE84B0978>"
            ]
          },
          "metadata": {
            "tags": []
          }
        },
        {
          "output_type": "stream",
          "text": [
            "the number of support vectors:3\n"
          ],
          "name": "stdout"
        }
      ]
    }
  ]
}