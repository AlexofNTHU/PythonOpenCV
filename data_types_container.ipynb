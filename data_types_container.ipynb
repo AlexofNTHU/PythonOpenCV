{
  "nbformat": 4,
  "nbformat_minor": 0,
  "metadata": {
    "colab": {
      "name": "data_types_container.ipynb",
      "version": "0.3.2",
      "provenance": []
    },
    "kernelspec": {
      "name": "python3",
      "display_name": "Python 3"
    }
  },
  "cells": [
    {
      "metadata": {
        "id": "sfB8-r8KO_N5",
        "colab_type": "code",
        "colab": {}
      },
      "cell_type": "code",
      "source": [
        ""
      ],
      "execution_count": 0,
      "outputs": []
    },
    {
      "metadata": {
        "id": "T2e_JaOoPJg-",
        "colab_type": "text"
      },
      "cell_type": "markdown",
      "source": [
        "Basic data types: numbers, Booleans, Strings"
      ]
    },
    {
      "metadata": {
        "id": "o30421EHPI6r",
        "colab_type": "text"
      },
      "cell_type": "markdown",
      "source": [
        ""
      ]
    },
    {
      "metadata": {
        "id": "B2Z-0wZaPmKr",
        "colab_type": "code",
        "colab": {
          "base_uri": "https://localhost:8080/",
          "height": 35
        },
        "outputId": "bf072137-5b4a-4c9a-af62-7d12c73ab8b4"
      },
      "cell_type": "code",
      "source": [
        "x = 3\n",
        "print(type(x))"
      ],
      "execution_count": 1,
      "outputs": [
        {
          "output_type": "stream",
          "text": [
            "<class 'int'>\n"
          ],
          "name": "stdout"
        }
      ]
    },
    {
      "metadata": {
        "id": "F9m89IYaPqlp",
        "colab_type": "code",
        "colab": {
          "base_uri": "https://localhost:8080/",
          "height": 54
        },
        "outputId": "10cf5aba-9376-4a3e-917e-22118813cf29"
      },
      "cell_type": "code",
      "source": [
        "t = True\n",
        "f = False\n",
        "print(type(t))\n",
        "print(type(f))"
      ],
      "execution_count": 2,
      "outputs": [
        {
          "output_type": "stream",
          "text": [
            "<class 'bool'>\n",
            "<class 'bool'>\n"
          ],
          "name": "stdout"
        }
      ]
    },
    {
      "metadata": {
        "id": "F1JoSQ6xP_Te",
        "colab_type": "code",
        "colab": {}
      },
      "cell_type": "code",
      "source": [
        ""
      ],
      "execution_count": 0,
      "outputs": []
    }
  ]
}