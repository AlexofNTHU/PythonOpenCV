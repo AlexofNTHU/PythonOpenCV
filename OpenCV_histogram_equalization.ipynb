{
  "nbformat": 4,
  "nbformat_minor": 0,
  "metadata": {
    "colab": {
      "name": "OpenCV_histogram_equalization.ipynb",
      "version": "0.3.2",
      "provenance": [],
      "collapsed_sections": []
    },
    "kernelspec": {
      "name": "python3",
      "display_name": "Python 3"
    }
  },
  "cells": [
    {
      "metadata": {
        "id": "JBkHbX4eCVM8",
        "colab_type": "code",
        "colab": {}
      },
      "cell_type": "code",
      "source": [
        "import numpy as np\n",
        "import cv2 as cv\n",
        "from matplotlib import pyplot as plt\n",
        "from google.colab.patches import cv2_imshow\n",
        "from google.colab import files\n",
        "from IPython.display import Image\n",
        "\n",
        "uploaded = files.upload()\n",
        "img = cv.imread('hq_test1.jpg')\n",
        "# the shape of this image\n",
        "img = cv.cvtColor(img, cv.COLOR_BGR2RGB)\n",
        "print(img.shape)\n",
        "plt.imshow(img)\n",
        "plt.show()\n"
      ],
      "execution_count": 0,
      "outputs": []
    },
    {
      "metadata": {
        "id": "UJ5dZOvBEBlw",
        "colab_type": "code",
        "colab": {}
      },
      "cell_type": "code",
      "source": [
        "\n",
        "hist,bins = np.histogram(img.flatten(),256,[0,256])\n",
        "#print(hist)\n",
        "\n",
        " \n",
        "cdf = hist.cumsum()\n",
        "\n",
        "#print(hist.max())\n",
        "#print(cdf.max())\n",
        "\n",
        "# show histogram of the original image\n",
        "plt.hist(img.flatten(),256,[0,256], color = 'r')\n",
        "plt.xlim([0,256])\n",
        "plt.legend(('cdf','histogram'), loc = 'upper left')\n",
        "plt.show()\n",
        "\n",
        "# show cdf of the original image\n",
        "plt.plot(cdf, color = 'b')\n",
        "plt.show()\n",
        "\n",
        "\n",
        "# cdf/cdf.max() = cdf in terms of probability\n",
        "cdf_m = (cdf)*255/cdf.max()\n",
        "\n",
        "#print(cdf_m)\n",
        "\n",
        "# requantizing to integers\n",
        "cdf = cdf_m.astype('uint8')\n",
        "\n",
        "#print(cdf)\n",
        "\n",
        "img_histogram_equalized = cdf[img]\n",
        "#print(img_histogram_equalized.shape)\n",
        "\n",
        "plt.imshow(img_histogram_equalized)\n",
        "plt.show()\n",
        "\n",
        "# show histogram equalized image\n",
        "plt.hist(img_histogram_equalized.flatten(),256,[0,256], color = 'r')\n",
        "plt.show()\n"
      ],
      "execution_count": 0,
      "outputs": []
    },
    {
      "metadata": {
        "id": "7EReBw37H521",
        "colab_type": "code",
        "colab": {}
      },
      "cell_type": "code",
      "source": [
        ""
      ],
      "execution_count": 0,
      "outputs": []
    }
  ]
}