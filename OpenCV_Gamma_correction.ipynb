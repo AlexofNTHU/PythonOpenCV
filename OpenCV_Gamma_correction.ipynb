{
  "nbformat": 4,
  "nbformat_minor": 0,
  "metadata": {
    "colab": {
      "name": "OpenCV_Gamma_correction.ipynb",
      "version": "0.3.2",
      "provenance": [],
      "collapsed_sections": []
    },
    "kernelspec": {
      "name": "python3",
      "display_name": "Python 3"
    }
  },
  "cells": [
    {
      "metadata": {
        "id": "aXldPrfUH4wz",
        "colab_type": "code",
        "colab": {}
      },
      "cell_type": "code",
      "source": [
        "#mport cv2\n",
        "#v2.version__\n",
        "\n",
        "import numpy as np\n",
        "import cv2 as cv\n",
        "from matplotlib import pyplot as plt\n",
        "from google.colab.patches import cv2_imshow\n",
        "from google.colab import files\n",
        "from IPython.display import Image\n",
        "\n",
        "#!rm Lenna.jpg\n",
        "\n",
        "uploaded = files.upload()\n",
        "img = cv.imread('Lenna.jpg')\n",
        "# the shape of this image\n",
        "print(img.shape)\n",
        "\n",
        "# the type of img is numpy\n",
        "print(type(img))\n",
        "\n",
        "# This would work normally, but it will crash the colab kernel, so don't.\n",
        "# cv2.imshow('Image', img)\n",
        "\n",
        "# we could use cv2_imshow() instead\n",
        "# originall image read by OpenCV is BGR\n",
        "cv2_imshow(img)\n",
        "\n",
        "# using matplotlib is OK but its color space is RGB\n",
        "img_rgb = cv.cvtColor(img, cv.COLOR_BGR2RGB)\n",
        "plt.imshow(img_rgb)\n",
        "plt.show()\n",
        "\n"
      ],
      "execution_count": 0,
      "outputs": []
    },
    {
      "metadata": {
        "id": "w1bmIq0y3p_F",
        "colab_type": "code",
        "colab": {}
      },
      "cell_type": "code",
      "source": [
        "# now let's do Gamma correction by giving different Gamma.\n",
        "# note that directly re-executing this cell will access the same image copy\n",
        "h, w, c = img.shape\n",
        "Gamma=2.67\n",
        "for i in range(h):\n",
        "    for j in range(w):\n",
        "        for k in range(c):  \n",
        "            #print(k) \n",
        "            new_value = np.power((img_rgb.item(i,j,k)/255.0),Gamma)*255\n",
        "            \n",
        "            img_rgb.itemset((i,j,k),new_value) \n",
        "            \n",
        "plt.imshow(img_rgb)\n",
        "plt.show()    "
      ],
      "execution_count": 0,
      "outputs": []
    },
    {
      "metadata": {
        "id": "fA4_Pr9_4ctL",
        "colab_type": "code",
        "colab": {}
      },
      "cell_type": "code",
      "source": [
        ""
      ],
      "execution_count": 0,
      "outputs": []
    },
    {
      "metadata": {
        "id": "74yiv4J361Qq",
        "colab_type": "code",
        "colab": {}
      },
      "cell_type": "code",
      "source": [
        ""
      ],
      "execution_count": 0,
      "outputs": []
    }
  ]
}