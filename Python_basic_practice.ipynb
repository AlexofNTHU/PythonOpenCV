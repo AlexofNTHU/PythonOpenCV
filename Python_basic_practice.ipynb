{
  "nbformat": 4,
  "nbformat_minor": 0,
  "metadata": {
    "colab": {
      "name": "Python_basic_practice.ipynb",
      "provenance": []
    },
    "kernelspec": {
      "name": "python3",
      "display_name": "Python 3"
    }
  },
  "cells": [
    {
      "cell_type": "markdown",
      "metadata": {
        "id": "_RP9S6SQgg15",
        "colab_type": "text"
      },
      "source": [
        "**Ex1:** Please try to use list comprehension for achieving the list generate by the following code: \n",
        "\n",
        "```\n",
        "S = []\n",
        "for i in range(10):\n",
        "    S.append(i**2)\n",
        "```\n",
        "\n",
        "```\n",
        "S1 = []\n",
        "for i in range(10):\n",
        "    if i % 2 == 0:\n",
        "      S1.append(i**2)\n",
        "```\n",
        "\n",
        "   \n",
        "\n",
        "\n"
      ]
    },
    {
      "cell_type": "code",
      "metadata": {
        "id": "_HKA6hYjggMj",
        "colab_type": "code",
        "colab": {}
      },
      "source": [
        "\n",
        "\n",
        "\n",
        "\n",
        "\n",
        "\n",
        "\n"
      ],
      "execution_count": 0,
      "outputs": []
    },
    {
      "cell_type": "markdown",
      "metadata": {
        "id": "VPAGd101oSWV",
        "colab_type": "text"
      },
      "source": [
        "**EX2:** Write a Python script to add a key to a dictionary.\n",
        "\n",
        "Sample Dictionary : {0: 10, 1: 20}\n",
        "Expected Result : {0: 10, 1: 20, 2: 30}"
      ]
    },
    {
      "cell_type": "code",
      "metadata": {
        "id": "4WNpSgFXopfV",
        "colab_type": "code",
        "colab": {}
      },
      "source": [
        ""
      ],
      "execution_count": 0,
      "outputs": []
    },
    {
      "cell_type": "markdown",
      "metadata": {
        "id": "6L2ttxtyojed",
        "colab_type": "text"
      },
      "source": [
        "**EX3:** Write a Python program to replace last value of tuples in a list. Go to the editor\n",
        "Sample list: [(10, 20, 40), (40, 50, 60), (70, 80, 90)]\n",
        "Expected Output: [(10, 20, 100), (40, 50, 100), (70, 80, 100)]"
      ]
    },
    {
      "cell_type": "code",
      "metadata": {
        "id": "XbRRGw53orCA",
        "colab_type": "code",
        "colab": {}
      },
      "source": [
        ""
      ],
      "execution_count": 0,
      "outputs": []
    },
    {
      "cell_type": "markdown",
      "metadata": {
        "id": "ABsV3cC7o9lL",
        "colab_type": "text"
      },
      "source": [
        "**EX4:** Write a Python program to create an intersection of the following sets.\n",
        "\n",
        "```\n",
        "setx = set([\"green\", \"blue\"])\n",
        "sety = set([\"blue\", \"yellow\"])\n",
        "```\n",
        "\n"
      ]
    },
    {
      "cell_type": "code",
      "metadata": {
        "id": "KQMWEpfxo8m1",
        "colab_type": "code",
        "colab": {}
      },
      "source": [
        ""
      ],
      "execution_count": 0,
      "outputs": []
    },
    {
      "cell_type": "markdown",
      "metadata": {
        "id": "yOQRetcDp8y0",
        "colab_type": "text"
      },
      "source": [
        "**EX5:** Write a NumPy program to add a border (filled with 0's) around a 3x3 array initialized with random numbers."
      ]
    },
    {
      "cell_type": "code",
      "metadata": {
        "id": "RGkFdaUxs_X6",
        "colab_type": "code",
        "colab": {}
      },
      "source": [
        ""
      ],
      "execution_count": 0,
      "outputs": []
    },
    {
      "cell_type": "markdown",
      "metadata": {
        "id": "CS02loKltADU",
        "colab_type": "text"
      },
      "source": [
        "**EX6:** Write a NumPy program to multiply the following two numpy arrays and form a 3x4 matrix and a 4x3 one using broadcasting.\n",
        "\n",
        "\n",
        "\n",
        "```\n",
        "v = np.array([1,2,1])  \n",
        "w = np.array([4,5,6,7])  \n",
        "```\n",
        "\n"
      ]
    },
    {
      "cell_type": "code",
      "metadata": {
        "id": "1Od0GR_Ot4Qi",
        "colab_type": "code",
        "colab": {}
      },
      "source": [
        ""
      ],
      "execution_count": 0,
      "outputs": []
    }
  ]
}